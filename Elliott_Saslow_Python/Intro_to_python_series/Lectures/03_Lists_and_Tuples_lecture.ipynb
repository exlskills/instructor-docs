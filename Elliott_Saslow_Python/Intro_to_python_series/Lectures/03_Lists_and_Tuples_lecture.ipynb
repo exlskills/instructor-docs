{
  "nbformat": 4,
  "nbformat_minor": 0,
  "metadata": {
    "colab": {
      "name": "03_Lists and Tuples lecture.ipynb",
      "version": "0.3.2",
      "provenance": [],
      "collapsed_sections": []
    },
    "kernelspec": {
      "display_name": "Python 3",
      "language": "python",
      "name": "python3"
    }
  },
  "cells": [
    {
      "metadata": {
        "id": "3ozKVo_0c3ws",
        "colab_type": "text"
      },
      "cell_type": "markdown",
      "source": [
        "[Link to Live Lecture](https://colab.research.google.com/drive/1botz97EqIc6xOlrnOc5TXVgt3cmAaDcz)\n",
        "# Review from previous lecture\n",
        "\n",
        "1.  Conditionals\n",
        "  - if statements\n",
        "  - elif & else statments\n",
        "2. While Loops\n",
        "\n",
        "Lets consider that we may want to store many of these variables in a single data structure\n",
        "\n",
        "### Goals:\n",
        "- Explore For loops\n",
        "- How do we store many pieces of data in a single structure?\n",
        "- What kind of structures do we have available to us?\n",
        "- How can we manipulate these datastructures and use the data in them?\n",
        "- Remember **list** is a protected keyword!!\n",
        "----"
      ]
    },
    {
      "metadata": {
        "id": "jFkMWoTWtp0A",
        "colab_type": "text"
      },
      "cell_type": "markdown",
      "source": [
        "# 3.0 Collections and Iteration\n",
        "### Collection = Holding data\n",
        "### Iteration = Going through data in Collection\n"
      ]
    },
    {
      "metadata": {
        "id": "lcQlnJD6pkm1",
        "colab_type": "text"
      },
      "cell_type": "markdown",
      "source": [
        "**Collections** are a class of data types that gather together conceptually related data into a whole. \n",
        "\n",
        "**Examples:**\n",
        "- lists\n",
        "- sets\n",
        "- tuples\n",
        "- dictionaries\n",
        "\n",
        "#### Question?  What are the differences between these collections? \n",
        "\n",
        "\n",
        "We will discuss four main types of collections in the next two lectures: **lists, tuples, sets, and dictionaries**\n",
        "\n",
        "This lecture will focus mainly on Lists & Tuples\n",
        "\n",
        "The following lecture will focus mainly on Sets and Dictionaries\n",
        "\n",
        "**Iteration** is the process of visiting each member of a collection, and taking an action on it. \n",
        "\n",
        "For example, we could visit all the strings in a list and join the various words into a sentence, or we could visit all the numbers in a set and calculate the sum of them all."
      ]
    },
    {
      "metadata": {
        "id": "4ef7RjUnpkm2",
        "colab_type": "text"
      },
      "cell_type": "markdown",
      "source": [
        "-----\n",
        "## 3.10 Lists\n",
        "\n",
        "- list notation:\n",
        "` [.....]`\n",
        "\n",
        "#### What can go inside a list?\n",
        "\n",
        "- Numbers\n",
        "- Strings\n",
        "- Numbers and strings\n",
        "- Other lists (matrix)\n"
      ]
    },
    {
      "metadata": {
        "id": "uKmySZsRpkm3",
        "colab_type": "code",
        "colab": {}
      },
      "cell_type": "code",
      "source": [
        "lst1 = [1,2,3,4]\n",
        "lst2 = ['strings','can','go','in','lists']\n",
        "lst3 = ['strings', 'and',3,4,5]\n",
        "lst4 = ['pretty much anything can go in here!']"
      ],
      "execution_count": 0,
      "outputs": []
    },
    {
      "metadata": {
        "id": "zOGxpBy4pkm6",
        "colab_type": "text"
      },
      "cell_type": "markdown",
      "source": [
        "### 3.11 What is the length of a list\n",
        "- The number of pieces of data that we are storing in the list\n",
        "- Try this in your own notebook!"
      ]
    },
    {
      "metadata": {
        "id": "5TOGNP8Rud5F",
        "colab_type": "code",
        "colab": {
          "base_uri": "https://localhost:8080/",
          "height": 34
        },
        "outputId": "5a3953d6-91c2-4a28-c16a-5d97699d6a1c"
      },
      "cell_type": "code",
      "source": [
        "# Length of a list\n",
        "list1 = [1,2,3,4]\n",
        "print(len(list1))"
      ],
      "execution_count": 0,
      "outputs": [
        {
          "output_type": "stream",
          "text": [
            "2\n"
          ],
          "name": "stdout"
        }
      ]
    },
    {
      "metadata": {
        "id": "a-gZldAKd433",
        "colab_type": "text"
      },
      "cell_type": "markdown",
      "source": [
        "#### Your Turn\n",
        "In your own notebook:\n",
        "1. Create a list (put whatever you want in it)\n",
        "2. Find the length of the list\n",
        "\n",
        "**Challenge: Using the length of the list and algebraic operations, make the notebook print out the number 6 (without the length of the list being 6)**\n"
      ]
    },
    {
      "metadata": {
        "id": "Tha-7S0EpknE",
        "colab_type": "text"
      },
      "cell_type": "markdown",
      "source": [
        "### 3.20 Indexing a list \n",
        "\n",
        "- The index refers to the location that data point is at\n",
        "\n",
        "For example with out list `lst1 = [1,2,3,4]` the number `1` is at the 0th index and the number `4` is at the 3rd index.  Lets explore this a little more"
      ]
    },
    {
      "metadata": {
        "id": "0s6F4mmkv0f-",
        "colab_type": "code",
        "colab": {
          "base_uri": "https://localhost:8080/",
          "height": 35
        },
        "outputId": "559ff24b-1a07-489e-989e-6cc1edb2b9fd"
      },
      "cell_type": "code",
      "source": [
        "# Create a new list:\n",
        "lst = [1,2,3,4]\n",
        "\n",
        "# Print the item at index 0\n",
        "print('The item at index 0 is:',lst1[0])"
      ],
      "execution_count": 3,
      "outputs": [
        {
          "output_type": "stream",
          "text": [
            "The item at index 0 is: 1\n"
          ],
          "name": "stdout"
        }
      ]
    },
    {
      "metadata": {
        "id": "Od10uk5ZpknV",
        "colab_type": "text"
      },
      "cell_type": "markdown",
      "source": [
        "#### 3.21 Zoom Poll!\n",
        "##### Lets say that we have the following list:\n",
        "\n",
        "`lst = [10,3,4,2,50,22,18,19]`\n",
        "\n",
        "- What index is 10 at?\n",
        "\n",
        "- What index is 50 at?\n",
        "\n",
        "- What code would I use to get the numbers `[4,2,50,22]`?\n"
      ]
    },
    {
      "metadata": {
        "id": "6l5oK0nUemLE",
        "colab_type": "text"
      },
      "cell_type": "markdown",
      "source": [
        "### 3.30 Common Methods that can be applied to a list:\n",
        "\n",
        "#### 3.31 Appending to a list \n",
        "\n",
        "You can add to the end of a list using the append method! \n",
        "\n",
        "`lst.append(number)`\n",
        "\n",
        "\n",
        "#### 3.32 Inserting into a specific index\n",
        "\n",
        "Inserts the element at the given index, shifting elements to the right.\n",
        "\n",
        "`list.insert(index, elem)`\n",
        "\n",
        "#### 3.33 Extending a list\n",
        "\n",
        "Adds the elements in list2 to the end of the list.\n",
        "\n",
        "`list.extend(list2) `\n",
        "\n",
        "You can append as may numbers as you like to a list, but if your list get HUGE you will find it slows down operations dramatically"
      ]
    },
    {
      "metadata": {
        "id": "rtwvKfcdelMD",
        "colab_type": "code",
        "colab": {
          "base_uri": "https://localhost:8080/",
          "height": 52
        },
        "outputId": "63c8ee85-fbe0-4476-c27b-fc00c3bf9317"
      },
      "cell_type": "code",
      "source": [
        "lst = [1,2,3]\n",
        "print('Here is the list: ',lst)\n",
        "lst.append(10)\n",
        "print('Here is the list with a number appended to it! ',lst)"
      ],
      "execution_count": 4,
      "outputs": [
        {
          "output_type": "stream",
          "text": [
            "Here is the list:  [1, 2, 3]\n",
            "Here is the list with a number appended to it!  [1, 2, 3, 10]\n"
          ],
          "name": "stdout"
        }
      ]
    },
    {
      "metadata": {
        "id": "9_nUWCrfgaPe",
        "colab_type": "text"
      },
      "cell_type": "markdown",
      "source": [
        "#### Your turn!  (In your notebook)\n",
        "1. Create a list **(Dont use the name list -- Its protected)**\n",
        "2. Insert a value into the front of the list\n",
        "3. Append a value to back of the list\n",
        "4. Insert a value in the middle of the list (you pick the index)\n",
        "5. Extend your list with a list that someone else made!"
      ]
    },
    {
      "metadata": {
        "id": "Un7Ih65CpknX",
        "colab_type": "text"
      },
      "cell_type": "markdown",
      "source": [
        "## 3.40 The `In` operator\n",
        "We can use the in operator to see if a number exists in our list\n",
        "\n",
        "This will return a true or false answer"
      ]
    },
    {
      "metadata": {
        "id": "xxaMyfXVpknX",
        "colab_type": "code",
        "colab": {
          "base_uri": "https://localhost:8080/",
          "height": 104
        },
        "outputId": "0028e418-137e-4362-d43f-5cb2c52e79b6"
      },
      "cell_type": "code",
      "source": [
        "#Create the list \n",
        "lst = [10,3,4,2,50,22,18,19]\n",
        "\n",
        "# is 4 in the list?\n",
        "print(4 in lst)\n",
        "\n",
        "# is 33 in the list?\n",
        "print(33 in lst)\n",
        "\n",
        "# is hello in the list?\n",
        "print('hello' in lst)\n",
        "\n",
        "# Place holder\n",
        "print('--'*50)\n",
        "\n",
        "# putting together conditionals and in operator\n",
        "if 4 in lst:\n",
        "  print('Wow I can use the in operator to generate booleans!')"
      ],
      "execution_count": 5,
      "outputs": [
        {
          "output_type": "stream",
          "text": [
            "True\n",
            "False\n",
            "False\n",
            "----------------------------------------------------------------------------------------------------\n",
            "Wow I can use the in operator to generate booleans!\n"
          ],
          "name": "stdout"
        }
      ]
    },
    {
      "metadata": {
        "id": "K_6rSuZMhTnI",
        "colab_type": "text"
      },
      "cell_type": "markdown",
      "source": [
        "### 3.41 Your turn\n",
        "\n",
        "1. Create a new list\n",
        "2. Check to see if 'Cat' is in your list\n",
        "  - If it isn't add 'Cat' to your list\n",
        "  - if it is print 'I read Elliott's mind and added cat to my list'\n",
        " \n",
        "Play with the in operator and see if it works with floats, integers, and strings!"
      ]
    },
    {
      "metadata": {
        "id": "uofoiAPfpkne",
        "colab_type": "text"
      },
      "cell_type": "markdown",
      "source": [
        "This is super useful for if statments:\n",
        "\n",
        "`if number in lst:\n",
        "    use number in sum`"
      ]
    },
    {
      "metadata": {
        "id": "ecOnR3xCpknf",
        "colab_type": "text"
      },
      "cell_type": "markdown",
      "source": [
        "---------"
      ]
    },
    {
      "metadata": {
        "id": "oJnAUic5pknf",
        "colab_type": "text"
      },
      "cell_type": "markdown",
      "source": [
        "## 3.50 Iterating through a list!\n",
        "We can go through each number in the list using a for loop!  And also we can go through each index in the list\n",
        "\n",
        "**Start with iterating through each value in a list**\n",
        "- number refers to the value in the list"
      ]
    },
    {
      "metadata": {
        "id": "TCeIDuU9pknh",
        "colab_type": "code",
        "colab": {
          "base_uri": "https://localhost:8080/",
          "height": 87
        },
        "outputId": "a089ed1e-509c-4176-9eba-b5c94299df7c"
      },
      "cell_type": "code",
      "source": [
        "lst1 = [1,2,3,4]\n",
        "for number in lst1:\n",
        "    print(number)"
      ],
      "execution_count": 6,
      "outputs": [
        {
          "output_type": "stream",
          "text": [
            "1\n",
            "2\n",
            "3\n",
            "4\n"
          ],
          "name": "stdout"
        }
      ]
    },
    {
      "metadata": {
        "id": "9n7Nau5Opknj",
        "colab_type": "text"
      },
      "cell_type": "markdown",
      "source": [
        "Or we could iterate through the numbers using the **index!!**\n",
        "\n",
        "- i refers to the index of the lst"
      ]
    },
    {
      "metadata": {
        "id": "yLJZdiHopknk",
        "colab_type": "code",
        "colab": {
          "base_uri": "https://localhost:8080/",
          "height": 87
        },
        "outputId": "cb302462-b653-4bc2-c31c-dc0e1618799c"
      },
      "cell_type": "code",
      "source": [
        "lst1 = [1,2,3,4]\n",
        "for i in range(len(lst1)):\n",
        "    print(lst1[i])"
      ],
      "execution_count": 7,
      "outputs": [
        {
          "output_type": "stream",
          "text": [
            "1\n",
            "2\n",
            "3\n",
            "4\n"
          ],
          "name": "stdout"
        }
      ]
    },
    {
      "metadata": {
        "id": "uCTpFCvApknr",
        "colab_type": "text"
      },
      "cell_type": "markdown",
      "source": [
        "Or we could iterate through both of these at the same time using the `enumerate` command:"
      ]
    },
    {
      "metadata": {
        "id": "W3oATagwpknr",
        "colab_type": "code",
        "colab": {
          "base_uri": "https://localhost:8080/",
          "height": 87
        },
        "outputId": "966f16fe-2c6b-4444-aa62-dcc969a8416b"
      },
      "cell_type": "code",
      "source": [
        "lst1 = [1,2,3,4]\n",
        "for i,number in enumerate(lst1):\n",
        "    print('index: ',i,'|| Value: ',number)"
      ],
      "execution_count": 8,
      "outputs": [
        {
          "output_type": "stream",
          "text": [
            "index:  0 || Value:  1\n",
            "index:  1 || Value:  2\n",
            "index:  2 || Value:  3\n",
            "index:  3 || Value:  4\n"
          ],
          "name": "stdout"
        }
      ]
    },
    {
      "metadata": {
        "id": "kSNL82gglEzn",
        "colab_type": "text"
      },
      "cell_type": "markdown",
      "source": [
        "#### 3.51 Your Turn!\n",
        "1. Create a new list (with numbers in it)\n",
        "2. Create a new empty list\n",
        "3. Iterate through the list with numbers and square each value\n",
        "4. Append the squared value to the end of the empty list\n",
        "5. Print the new list with the squared numbers\n",
        "\n",
        "**Challenge: Complete the task above once using the index of the list and once using the values in the list**"
      ]
    },
    {
      "metadata": {
        "id": "sbWOFKzQpknv",
        "colab_type": "text"
      },
      "cell_type": "markdown",
      "source": [
        "----------------\n",
        "##  3.60 Tuples!\n",
        "- Notation!`(.....)`\n",
        "\n",
        "- Length is the same as lists!\n",
        "- Indexing is the same as lists!\n",
        "- Lists can be changed -- Tuples cannot (Mutability, vs Immutable)"
      ]
    },
    {
      "metadata": {
        "id": "pwLMTwCWpknw",
        "colab_type": "code",
        "colab": {
          "base_uri": "https://localhost:8080/",
          "height": 35
        },
        "outputId": "aa59f102-03ee-494a-b38b-cd9c7dcbc3a0"
      },
      "cell_type": "code",
      "source": [
        "# Mutability Example\n",
        "lst1 = [1,2,3,4] \n",
        "lst1[0] = 10\n",
        "print(lst1)"
      ],
      "execution_count": 9,
      "outputs": [
        {
          "output_type": "stream",
          "text": [
            "[10, 2, 3, 4]\n"
          ],
          "name": "stdout"
        }
      ]
    },
    {
      "metadata": {
        "id": "NzOainTYpkn0",
        "colab_type": "code",
        "colab": {
          "base_uri": "https://localhost:8080/",
          "height": 35
        },
        "outputId": "9171dca6-ddef-4e46-9142-187a2c1a696a"
      },
      "cell_type": "code",
      "source": [
        "# Immutable Example (continued below)\n",
        "tup1 = (1,2,3)\n",
        "print(tup1[0])"
      ],
      "execution_count": 10,
      "outputs": [
        {
          "output_type": "stream",
          "text": [
            "1\n"
          ],
          "name": "stdout"
        }
      ]
    },
    {
      "metadata": {
        "id": "WgDFomATpkn3",
        "colab_type": "code",
        "colab": {
          "base_uri": "https://localhost:8080/",
          "height": 167
        },
        "outputId": "721fe8db-f322-40af-fc76-a8e034ec412f"
      },
      "cell_type": "code",
      "source": [
        "tup1[0] = 3"
      ],
      "execution_count": 11,
      "outputs": [
        {
          "output_type": "error",
          "ename": "TypeError",
          "evalue": "ignored",
          "traceback": [
            "\u001b[0;31m---------------------------------------------------------------------------\u001b[0m",
            "\u001b[0;31mTypeError\u001b[0m                                 Traceback (most recent call last)",
            "\u001b[0;32m<ipython-input-11-ac49bb8ca6c7>\u001b[0m in \u001b[0;36m<module>\u001b[0;34m()\u001b[0m\n\u001b[0;32m----> 1\u001b[0;31m \u001b[0mtup1\u001b[0m\u001b[0;34m[\u001b[0m\u001b[0;36m0\u001b[0m\u001b[0;34m]\u001b[0m \u001b[0;34m=\u001b[0m \u001b[0;36m3\u001b[0m\u001b[0;34m\u001b[0m\u001b[0m\n\u001b[0m",
            "\u001b[0;31mTypeError\u001b[0m: 'tuple' object does not support item assignment"
          ]
        }
      ]
    },
    {
      "metadata": {
        "id": "SQxkRzNIpkn5",
        "colab_type": "text"
      },
      "cell_type": "markdown",
      "source": [
        "#### 3.61  Immutable\n",
        "\n",
        "\n",
        "Error -- Can't change the values in the tuple!"
      ]
    },
    {
      "metadata": {
        "id": "7gypkLxcpkn6",
        "colab_type": "text"
      },
      "cell_type": "markdown",
      "source": [
        "- Can have a list of tuples!"
      ]
    },
    {
      "metadata": {
        "id": "yX7osCd2pkn7",
        "colab_type": "code",
        "colab": {}
      },
      "cell_type": "code",
      "source": [
        "lst = [(1,2),(2,3),(3,4)]"
      ],
      "execution_count": 0,
      "outputs": []
    },
    {
      "metadata": {
        "id": "v0x5530qpkn9",
        "colab_type": "text"
      },
      "cell_type": "markdown",
      "source": [
        "- Tuples can be any length\n",
        "- Useful for holding `x,y` pairs or `x,y,z,...` pairs\n",
        "\n",
        "-----\n",
        "\n",
        "Iteration works the same with tuples!  \n",
        " \n",
        "- Look at iterating through one tuple"
      ]
    },
    {
      "metadata": {
        "id": "yYYPbUywpkn-",
        "colab_type": "code",
        "colab": {
          "base_uri": "https://localhost:8080/",
          "height": 69
        },
        "outputId": "67ab4014-6d0a-43a7-e6a8-f09858fd01df"
      },
      "cell_type": "code",
      "source": [
        "tup1 = (1,2,3)\n",
        "for value in tup1:\n",
        "    print(value)"
      ],
      "execution_count": 12,
      "outputs": [
        {
          "output_type": "stream",
          "text": [
            "1\n",
            "2\n",
            "3\n"
          ],
          "name": "stdout"
        }
      ]
    },
    {
      "metadata": {
        "id": "PZndE1unpkoB",
        "colab_type": "text"
      },
      "cell_type": "markdown",
      "source": [
        "- Look at iterating through list of tuples:"
      ]
    },
    {
      "metadata": {
        "id": "DxGVXLTLpkoB",
        "colab_type": "code",
        "colab": {
          "base_uri": "https://localhost:8080/",
          "height": 191
        },
        "outputId": "fa066107-9c0f-4730-ed09-3b91731c7718"
      },
      "cell_type": "code",
      "source": [
        "# Create a list of tuples \n",
        "lst = [(1,2),(2,3)]\n",
        "\n",
        "# For each tuple in the list\n",
        "for tup in lst:\n",
        "  \n",
        "    print('\\nPrinting Tuple Values\\n','--'*10,)\n",
        "    \n",
        "    # Go through each value in the tuples\n",
        "    for i,value in enumerate(tup):\n",
        "        print('Tuple index ',i,' = ', value)\n"
      ],
      "execution_count": 13,
      "outputs": [
        {
          "output_type": "stream",
          "text": [
            "\n",
            "Printing Tuple Values\n",
            " --------------------\n",
            "Tuple index  0  =  1\n",
            "Tuple index  1  =  2\n",
            "\n",
            "Printing Tuple Values\n",
            " --------------------\n",
            "Tuple index  0  =  2\n",
            "Tuple index  1  =  3\n"
          ],
          "name": "stdout"
        }
      ]
    },
    {
      "metadata": {
        "id": "4fq48qZVl_5A",
        "colab_type": "text"
      },
      "cell_type": "markdown",
      "source": [
        "** 3.70 Assignment**\n",
        "1. Make a list of tuples\n",
        "2. Iterate through your list\n",
        "3. Create a new tuple that is the reverse of each of your tuples and add it to a new list\n",
        "4. Print the original and new list of tuples\n",
        "\n",
        "Example:\n",
        "\n",
        " ``` \n",
        " original = [(1,2),(2,3)]\n",
        " transformed = [(2,1),(3,2)]\n",
        " ```"
      ]
    }
  ]
}