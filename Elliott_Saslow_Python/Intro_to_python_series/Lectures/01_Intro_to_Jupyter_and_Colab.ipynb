{
  "nbformat": 4,
  "nbformat_minor": 0,
  "metadata": {
    "colab": {
      "name": "Introduction to Colab notebook for EXL",
      "version": "0.3.2",
      "provenance": [],
      "collapsed_sections": []
    },
    "kernelspec": {
      "name": "python3",
      "display_name": "Python 3"
    }
  },
  "cells": [
    {
      "metadata": {
        "id": "EGaF2GT4uTfu",
        "colab_type": "text"
      },
      "cell_type": "markdown",
      "source": [
        "# Introduction to Colab for the classroom\n",
        "\n",
        "[Link to live notebook](https://colab.research.google.com/drive/19QLO7-6Uu5PSRKZuSbpVzXzsdUcvyvPI)\n",
        "\n",
        "This is an \"Google Colab\" notebook. It's very similar to Jupyter Notebook, which we'll use extensively in this class. Unlike in Jupyter notebooks, however, this is a shared document where everybody can see and make changes to the same document.\n",
        "\n",
        "The first few problems will get us acquainted with working together. "
      ]
    },
    {
      "metadata": {
        "id": "WsjmO2LllnlQ",
        "colab_type": "text"
      },
      "cell_type": "markdown",
      "source": [
        "If you would like to follow along and use your own notebook, please use these instructions.\n",
        "1. Go to _file_ in the upper left corner\n",
        "2. Click _Save copy in drive_ \n",
        "3. Follow along and use your own notebook!"
      ]
    },
    {
      "metadata": {
        "id": "30nAHO_TlVju",
        "colab_type": "code",
        "colab": {}
      },
      "cell_type": "code",
      "source": [
        "# This is a comment\n",
        "# in a code cell\n",
        "# Press shift + enter to execute a cell\n",
        "# Nothing will print from this cell since these are all comments"
      ],
      "execution_count": 0,
      "outputs": []
    },
    {
      "metadata": {
        "id": "lwe_hsV9ul8L",
        "colab_type": "text"
      },
      "cell_type": "markdown",
      "source": [
        "## Lesson 0.0: Hello World\n",
        "\n",
        "One of the most basic programs that is always written first is called **Hello World**\n",
        "\n",
        "1. Click on this cell. This cell will highlight.\n",
        "1. Click the \"+ CODE\" button in the header. This will create a cell in the next line.\n",
        "    - optional: keyboard shortcut: **`CMD+M B`**\n",
        "\n",
        "1. In this cell, enter:\n",
        "\n",
        "> ```python\n",
        "> # Your name\n",
        "> print( \"Hello world!\" )\n",
        "> ```\n",
        "\n",
        "4. Click on the \"play\" button to the left of the cell. The first time you run a cell in a colab notebook it might take as long as 10-20 seconds to finish. After that, it's a lot faster.\n",
        "    * optional: keyboard shortcut: `SHIFT+ENTER`\n",
        "    \n",
        "-----------\n"
      ]
    },
    {
      "metadata": {
        "id": "NCcCHHCzgSQX",
        "colab_type": "text"
      },
      "cell_type": "markdown",
      "source": [
        "### Note\n",
        "\n",
        "In Python, anything after the `#` sign is _not executed_. These are called \"comments\". Lines that start with `#`are  ignored by the Python interpreter and plays no role in the computer program. It's just there as a note to humans reading the code."
      ]
    },
    {
      "metadata": {
        "id": "_tExYlfHx_L1",
        "colab_type": "text"
      },
      "cell_type": "markdown",
      "source": [
        "## Lesson 0.1: Hello World, Simplified\n",
        "\n",
        "The last statement to evaluate in the cell is automatically printed. So, the `print` statement is redundant.\n",
        "\n",
        "1. Click on this cell. This cell will highlight.\n",
        "1. Click the \"+ CODE\" button in the header. This will create a cell in the next line.\n",
        "1. In this cell, enter:\n",
        "\n",
        "> ```python\n",
        "> # YOUR NAME HERE\n",
        "> \"Hello world!\"\n",
        "> ```\n",
        "\n",
        "4. Click on the \"play\" button to the left of the cell.\n",
        "\n",
        "----------"
      ]
    },
    {
      "metadata": {
        "id": "RP5M3YvIMzRP",
        "colab_type": "code",
        "colab": {
          "base_uri": "https://localhost:8080/",
          "height": 34
        },
        "outputId": "ca0375bd-682f-493b-b6ea-17e2eb049191"
      },
      "cell_type": "code",
      "source": [
        "#Elliott \n",
        "\"Hello world!\""
      ],
      "execution_count": 2,
      "outputs": [
        {
          "output_type": "execute_result",
          "data": {
            "text/plain": [
              "'Hello world!'"
            ]
          },
          "metadata": {
            "tags": []
          },
          "execution_count": 2
        }
      ]
    },
    {
      "metadata": {
        "id": "esHycXYvppGK",
        "colab_type": "text"
      },
      "cell_type": "markdown",
      "source": [
        "### What's the difference?\n",
        "\n",
        "The  `print(x)` function writes the result of `str(x)` to the standard output. In a jupyter notebook, everything written to `stdout` is printed directy below the code cell.\n",
        "\n"
      ]
    },
    {
      "metadata": {
        "id": "ZKTAIvqXq3W1",
        "colab_type": "code",
        "colab": {
          "base_uri": "https://localhost:8080/",
          "height": 50
        },
        "outputId": "59011bd8-03c3-4a45-bd8a-e5e281dce334"
      },
      "cell_type": "code",
      "source": [
        "# Here we write a value to stdout, which is the same thing as print().\n",
        "\n",
        "import sys\n",
        "\n",
        "sys.stdout.write( \"Hello, standard out!\\n\" )\n",
        "print( \"Hello, print!\" )"
      ],
      "execution_count": 3,
      "outputs": [
        {
          "output_type": "stream",
          "text": [
            "Hello, standard out!\n",
            "Hello, print!\n"
          ],
          "name": "stdout"
        }
      ]
    },
    {
      "metadata": {
        "id": "JLkGw_iArOQ_",
        "colab_type": "text"
      },
      "cell_type": "markdown",
      "source": [
        "The main takeaway being: `print()` works in almost every kind of python environment - notebook, command line, script, web server, or library - because they all have access to `stdout`.\n",
        "\n",
        "Ending a cell in a Jupyter notebook with an expression `x` will print the value of `repr(x)` directly below the cell. This is special behavior particular to Jupyter notebooks. If you try this _outside_ of a Jupyter notebook, you'll have a bad time."
      ]
    },
    {
      "metadata": {
        "id": "ISIZj7Dd9RyR",
        "colab_type": "code",
        "colab": {
          "base_uri": "https://localhost:8080/",
          "height": 34
        },
        "outputId": "1630895b-85cd-465f-db71-bd91b1f020b2"
      },
      "cell_type": "code",
      "source": [
        "\"Hello, Jupyter cell!\""
      ],
      "execution_count": 4,
      "outputs": [
        {
          "output_type": "execute_result",
          "data": {
            "text/plain": [
              "'Hello, Jupyter cell!'"
            ]
          },
          "metadata": {
            "tags": []
          },
          "execution_count": 4
        }
      ]
    },
    {
      "metadata": {
        "id": "bOIFe-YezZVG",
        "colab_type": "text"
      },
      "cell_type": "markdown",
      "source": [
        "## Lesson 0.2: More than text\n",
        "\n",
        "When a cell is executed, a text value of the result of the last line is always printed.\n",
        "\n",
        "1. Create a cell and enter this:\n",
        "\n",
        "> ```python\n",
        "> # YOUR NAME HERE\n",
        "> a = YOUR OWN NUMBER\n",
        "> a\n",
        "> ```\n",
        "\n",
        "2. Run it.\n",
        "\n",
        "_Technially_: The string result of `repr(LAST_EXPRESSION)` is printed  below a cell after it's executed.\n",
        "\n",
        "--------\n",
        "\n"
      ]
    },
    {
      "metadata": {
        "id": "0XtDGPqXM7ZK",
        "colab_type": "code",
        "colab": {
          "base_uri": "https://localhost:8080/",
          "height": 35
        },
        "outputId": "b8d25393-dc16-4349-f86e-8a6e188a6503"
      },
      "cell_type": "code",
      "source": [
        "#Elliott \n",
        "a = 42\n",
        "print(a)"
      ],
      "execution_count": 1,
      "outputs": [
        {
          "output_type": "stream",
          "text": [
            "42\n"
          ],
          "name": "stdout"
        }
      ]
    },
    {
      "metadata": {
        "id": "q1KrEehynMej",
        "colab_type": "text"
      },
      "cell_type": "markdown",
      "source": [
        "# 1.0 Intro to Python\n",
        "\n",
        "Let's jump right in.\n",
        "\n",
        "A Python program is a series of expressions and statements. Don't worry about the specifics, but very roughly:\n",
        "\n",
        "* A **statement** is like a **verb**. It **does** something.\n",
        "* An **expression** is like a **noun**. It **is** something.\n",
        "\n",
        "The simplest Python program is a single expression, and the simplest expression is a number.\n",
        "\n",
        "Open up a code cell, type a number, and execute the cell."
      ]
    },
    {
      "metadata": {
        "id": "0yMwk0ahnPi-",
        "colab_type": "code",
        "colab": {
          "base_uri": "https://localhost:8080/",
          "height": 35
        },
        "outputId": "e2ab085c-db07-4b86-b0ac-ad5d454e40cf"
      },
      "cell_type": "code",
      "source": [
        "# Statement\n",
        "49"
      ],
      "execution_count": 2,
      "outputs": [
        {
          "output_type": "execute_result",
          "data": {
            "text/plain": [
              "49"
            ]
          },
          "metadata": {
            "tags": []
          },
          "execution_count": 2
        }
      ]
    },
    {
      "metadata": {
        "id": "XFz48qheo0JJ",
        "colab_type": "code",
        "colab": {}
      },
      "cell_type": "code",
      "source": [
        "# Expression\n",
        "a = 49"
      ],
      "execution_count": 0,
      "outputs": []
    },
    {
      "metadata": {
        "id": "8QUbJa3qo24H",
        "colab_type": "code",
        "colab": {
          "base_uri": "https://localhost:8080/",
          "height": 35
        },
        "outputId": "f92a1719-d5e7-4884-bfa1-8ee3da69f2f9"
      },
      "cell_type": "code",
      "source": [
        "a"
      ],
      "execution_count": 4,
      "outputs": [
        {
          "output_type": "execute_result",
          "data": {
            "text/plain": [
              "49"
            ]
          },
          "metadata": {
            "tags": []
          },
          "execution_count": 4
        }
      ]
    },
    {
      "metadata": {
        "id": "kwXBXpCpo76h",
        "colab_type": "text"
      },
      "cell_type": "markdown",
      "source": [
        "##  1.10 Literal Expressions"
      ]
    },
    {
      "metadata": {
        "id": "bLeQUYjqo_CN",
        "colab_type": "text"
      },
      "cell_type": "markdown",
      "source": [
        "An expression which expresses a single value is called a **literal**. A literal has a **type**. The above literal is an **integer**.\n",
        "\n",
        "Python has several numeric types.\n",
        "\n",
        "Here's a floating point number:\n"
      ]
    },
    {
      "metadata": {
        "id": "UWdWsE8Do3Sr",
        "colab_type": "code",
        "colab": {
          "base_uri": "https://localhost:8080/",
          "height": 35
        },
        "outputId": "c08b0b70-f6b7-4bc3-9133-5d6619ef5a33"
      },
      "cell_type": "code",
      "source": [
        "# Floating Point Number\n",
        "4.52324"
      ],
      "execution_count": 5,
      "outputs": [
        {
          "output_type": "execute_result",
          "data": {
            "text/plain": [
              "4.52324"
            ]
          },
          "metadata": {
            "tags": []
          },
          "execution_count": 5
        }
      ]
    },
    {
      "metadata": {
        "id": "c6lAqEdipHn-",
        "colab_type": "text"
      },
      "cell_type": "markdown",
      "source": [
        "#### 1.11 Complex Numbers"
      ]
    },
    {
      "metadata": {
        "id": "sfLlciclpEL4",
        "colab_type": "code",
        "colab": {
          "base_uri": "https://localhost:8080/",
          "height": 35
        },
        "outputId": "32d2ae2d-50cb-431c-ae36-07c4ec0c7487"
      },
      "cell_type": "code",
      "source": [
        "# Complex Number\n",
        "complex(1, 5)"
      ],
      "execution_count": 6,
      "outputs": [
        {
          "output_type": "execute_result",
          "data": {
            "text/plain": [
              "(1+5j)"
            ]
          },
          "metadata": {
            "tags": []
          },
          "execution_count": 6
        }
      ]
    },
    {
      "metadata": {
        "id": "pEkW1GR3pOdv",
        "colab_type": "text"
      },
      "cell_type": "markdown",
      "source": [
        "As I mentioned before, literals have types. In fact - the result of _all_ expressions have a type. You can check the type of an expression with the `type` function.\n",
        "\n",
        "```python\n",
        "type(EXPRESSION)\n",
        "```\n",
        "\n",
        "Try it out."
      ]
    },
    {
      "metadata": {
        "id": "81WsB93lpJ0O",
        "colab_type": "code",
        "colab": {
          "base_uri": "https://localhost:8080/",
          "height": 34
        },
        "outputId": "923271ef-6bbd-4193-8cd0-92875ad02590"
      },
      "cell_type": "code",
      "source": [
        "type(5)"
      ],
      "execution_count": 13,
      "outputs": [
        {
          "output_type": "execute_result",
          "data": {
            "text/plain": [
              "int"
            ]
          },
          "metadata": {
            "tags": []
          },
          "execution_count": 13
        }
      ]
    },
    {
      "metadata": {
        "id": "TNg3xLVZpQZo",
        "colab_type": "code",
        "colab": {
          "base_uri": "https://localhost:8080/",
          "height": 34
        },
        "outputId": "252f9eac-518a-439a-d686-693e87934df1"
      },
      "cell_type": "code",
      "source": [
        "a = 5\n",
        "type(a)"
      ],
      "execution_count": 14,
      "outputs": [
        {
          "output_type": "execute_result",
          "data": {
            "text/plain": [
              "int"
            ]
          },
          "metadata": {
            "tags": []
          },
          "execution_count": 14
        }
      ]
    },
    {
      "metadata": {
        "id": "hOQVuxjGpSLO",
        "colab_type": "code",
        "colab": {
          "base_uri": "https://localhost:8080/",
          "height": 34
        },
        "outputId": "2f1286fa-2303-4fa4-e491-b19478634eda"
      },
      "cell_type": "code",
      "source": [
        "a = 5.2\n",
        "type(a)"
      ],
      "execution_count": 15,
      "outputs": [
        {
          "output_type": "execute_result",
          "data": {
            "text/plain": [
              "float"
            ]
          },
          "metadata": {
            "tags": []
          },
          "execution_count": 15
        }
      ]
    },
    {
      "metadata": {
        "id": "XWFdBTAQpUHl",
        "colab_type": "code",
        "colab": {
          "base_uri": "https://localhost:8080/",
          "height": 34
        },
        "outputId": "21ce8b78-feed-4f23-aca8-0b824043e864"
      },
      "cell_type": "code",
      "source": [
        "type(complex(4, 3))"
      ],
      "execution_count": 16,
      "outputs": [
        {
          "output_type": "execute_result",
          "data": {
            "text/plain": [
              "complex"
            ]
          },
          "metadata": {
            "tags": []
          },
          "execution_count": 16
        }
      ]
    },
    {
      "metadata": {
        "id": "Zb8IYOjBqLLz",
        "colab_type": "text"
      },
      "cell_type": "markdown",
      "source": [
        "## 1.20 Arithmetic Expressions\n",
        "\n",
        "Python provides several simple arithmetic expressions for use with numeric literals.\n",
        "\n",
        "* `+` addition\n",
        "* `-` subtraction\n",
        "* `*` multiplication\n",
        "* `/` division\n",
        "* `**` exponentiation\n",
        "\n",
        "### 1.21 Other types of arithmetic expressions:\n",
        "\n",
        "* `//` floor division\n",
        "* `%` Modulo\n"
      ]
    },
    {
      "metadata": {
        "id": "Z1krVv0pqICJ",
        "colab_type": "code",
        "colab": {
          "base_uri": "https://localhost:8080/",
          "height": 35
        },
        "outputId": "fdf1f808-b1a3-4e76-92c5-645b7580dae6"
      },
      "cell_type": "code",
      "source": [
        "# Examples \n",
        "\n",
        "# Addition\n",
        "a = 10\n",
        "print(a + 2)"
      ],
      "execution_count": 17,
      "outputs": [
        {
          "output_type": "stream",
          "text": [
            "12\n"
          ],
          "name": "stdout"
        }
      ]
    },
    {
      "metadata": {
        "id": "cfHsOkipkabq",
        "colab_type": "code",
        "colab": {
          "base_uri": "https://localhost:8080/",
          "height": 35
        },
        "outputId": "099f2c87-d697-4114-e513-bce897e6b2c3"
      },
      "cell_type": "code",
      "source": [
        "# Subtraction\n",
        "print(a - 2)"
      ],
      "execution_count": 18,
      "outputs": [
        {
          "output_type": "stream",
          "text": [
            "8\n"
          ],
          "name": "stdout"
        }
      ]
    },
    {
      "metadata": {
        "id": "_njiEMPTkkAR",
        "colab_type": "code",
        "colab": {
          "base_uri": "https://localhost:8080/",
          "height": 35
        },
        "outputId": "dd660ecd-04ee-448e-bfe7-de5ae82be9e5"
      },
      "cell_type": "code",
      "source": [
        "# Multiplication\n",
        "print(a * 2)"
      ],
      "execution_count": 19,
      "outputs": [
        {
          "output_type": "stream",
          "text": [
            "20\n"
          ],
          "name": "stdout"
        }
      ]
    },
    {
      "metadata": {
        "id": "AUrr9XkUkm4Z",
        "colab_type": "code",
        "colab": {
          "base_uri": "https://localhost:8080/",
          "height": 35
        },
        "outputId": "8e294dd0-3389-4405-9772-bcf75989a1bf"
      },
      "cell_type": "code",
      "source": [
        "# Division\n",
        "print(a/2)"
      ],
      "execution_count": 21,
      "outputs": [
        {
          "output_type": "stream",
          "text": [
            "5.0\n"
          ],
          "name": "stdout"
        }
      ]
    },
    {
      "metadata": {
        "id": "5GNPXbJjko66",
        "colab_type": "code",
        "colab": {
          "base_uri": "https://localhost:8080/",
          "height": 35
        },
        "outputId": "da38e574-7bcb-4848-c5e0-823ad60b7f00"
      },
      "cell_type": "code",
      "source": [
        "# Exponentiation\n",
        "print(a ** 2)"
      ],
      "execution_count": 20,
      "outputs": [
        {
          "output_type": "stream",
          "text": [
            "100\n"
          ],
          "name": "stdout"
        }
      ]
    },
    {
      "metadata": {
        "id": "q-7Z5-qrlBzu",
        "colab_type": "text"
      },
      "cell_type": "markdown",
      "source": [
        "Questions: \n",
        "\n",
        "1. What is Floor division?\n",
        "2. What is Modulo"
      ]
    },
    {
      "metadata": {
        "id": "Qq26gfHOlLkW",
        "colab_type": "code",
        "colab": {
          "base_uri": "https://localhost:8080/",
          "height": 35
        },
        "outputId": "558473fa-e3eb-4e14-f7a0-3abe84c22b3e"
      },
      "cell_type": "code",
      "source": [
        "#Floor Division\n",
        "print(10 // 3)"
      ],
      "execution_count": 25,
      "outputs": [
        {
          "output_type": "stream",
          "text": [
            "3\n"
          ],
          "name": "stdout"
        }
      ]
    },
    {
      "metadata": {
        "id": "syjyP9H1lWZk",
        "colab_type": "code",
        "colab": {
          "base_uri": "https://localhost:8080/",
          "height": 35
        },
        "outputId": "3a011dc3-3e3f-4baa-ec03-09fd56673713"
      },
      "cell_type": "code",
      "source": [
        "# Modulo\n",
        "print(10 % 3)"
      ],
      "execution_count": 24,
      "outputs": [
        {
          "output_type": "stream",
          "text": [
            "1\n"
          ],
          "name": "stdout"
        }
      ]
    },
    {
      "metadata": {
        "id": "tjx-qpZIqkbV",
        "colab_type": "text"
      },
      "cell_type": "markdown",
      "source": [
        "## 1.30 Variable Expressions\n",
        "\n",
        "Python provides a way to name values called **variables**. You're probably used to variables from algebra, where they're used to store numbers.\n",
        "\n",
        "$$ x_i = 15.4 $$\n",
        "\n",
        "In Python, variables are declared with an **assignment statement**, which simultaneously creates the variable and assigns it a value. This is accomplished with the **assignment operator** `=`, like this:\n",
        "\n",
        "```python\n",
        "VARIABLE = VALUE_EXPRESSION\n",
        "```\n",
        "\n",
        "For example, here we create a value `a` and assign it the float-typed value `1969.2121`."
      ]
    },
    {
      "metadata": {
        "id": "MqJqXYM_qkzx",
        "colab_type": "code",
        "colab": {
          "base_uri": "https://localhost:8080/",
          "height": 34
        },
        "outputId": "edb9f315-f224-4177-bcc9-1fba57205134"
      },
      "cell_type": "code",
      "source": [
        "a = 5\n",
        "b = 10\n",
        "c = a + b\n",
        "print(c)"
      ],
      "execution_count": 17,
      "outputs": [
        {
          "output_type": "stream",
          "text": [
            "15\n"
          ],
          "name": "stdout"
        }
      ]
    },
    {
      "metadata": {
        "id": "3L84GS1GrFpT",
        "colab_type": "text"
      },
      "cell_type": "markdown",
      "source": [
        "**Note** the assignment operator `=` is pronounced \"gets\", _not_ \"equals\". The statement `a = 12` is pronounced \"ay gets twelve\".\n",
        "\n",
        "\n",
        "#### 1.31 Code readability \n",
        "\n",
        "The use of descriptive variable names is an important part of writing readable code. The convention in python is to use one to threeish lower-case words joined using an underscore. For example:\n",
        "\n",
        "`birthday`\n",
        "\n",
        "or\n",
        "\n",
        "`party_date`\n",
        "\n",
        "In some cases convention allows for shorter variable names. `i` is a conventional name for a loop counter, for instance."
      ]
    },
    {
      "metadata": {
        "id": "YVmYwQIUrQW0",
        "colab_type": "text"
      },
      "cell_type": "markdown",
      "source": [
        "### Right-to-left execution\n",
        "\n",
        "If you try the following code, what do you think will happen?\n",
        "\n",
        "```python\n",
        "a = 7\n",
        "a = a*2\n",
        "print( a )\n",
        "```\n",
        "\n",
        "Try it out in your own notebook!\n"
      ]
    },
    {
      "metadata": {
        "id": "bvJnQ7-JrIz9",
        "colab_type": "code",
        "colab": {
          "base_uri": "https://localhost:8080/",
          "height": 35
        },
        "outputId": "be6c034f-effa-4175-f0b9-d06dab6952a6"
      },
      "cell_type": "code",
      "source": [
        "a = 7\n",
        "a = a*2\n",
        "print( a )"
      ],
      "execution_count": 26,
      "outputs": [
        {
          "output_type": "stream",
          "text": [
            "14\n"
          ],
          "name": "stdout"
        }
      ]
    },
    {
      "metadata": {
        "id": "mdwIPtugld3d",
        "colab_type": "code",
        "colab": {
          "base_uri": "https://localhost:8080/",
          "height": 35
        },
        "outputId": "99ab48c7-125d-4bc1-809a-2de83f138f85"
      },
      "cell_type": "code",
      "source": [
        "# This is the same as above but with a different method\n",
        "a = 7\n",
        "a *= 2\n",
        "print( a )"
      ],
      "execution_count": 27,
      "outputs": [
        {
          "output_type": "stream",
          "text": [
            "14\n"
          ],
          "name": "stdout"
        }
      ]
    },
    {
      "metadata": {
        "id": "NfgoMnR4rYND",
        "colab_type": "text"
      },
      "cell_type": "markdown",
      "source": [
        "Against intuition, this actually works. This is because an assignment statement is evaluated **right to left**. First the expression on the right of the `=` is evaluated, and then the result is assigned to the variable on the left.\n",
        "\n",
        "Changing variables in this way occurs so commonly that there is built-in shorthand for it. The result of the first line could have been achieved with `x += 5`. This **syntactic sugar** is available for all the simple operations `+`, `-`, `*`, `/`, `**`, and `%` that we covered earlier."
      ]
    },
    {
      "metadata": {
        "id": "JdXMCt4Orst_",
        "colab_type": "text"
      },
      "cell_type": "markdown",
      "source": [
        "## 1.4 Logic\n",
        "\n",
        "We can't write a program without the ability to make a _choice_, and the `if` statement provides this ability. The `if` statement provides a way to specify that a statement should only be executed _if a given condition expression evaluates to True_.\n",
        "\n",
        "The general syntax of an `if` statement in Python is:\n",
        "\n",
        "```python\n",
        "if condition:\n",
        "    if_block_statement\n",
        "```\n",
        "\n",
        "Notice how the `if` statement ends in a colon `:`. This is the way that Python declares the start of an indentation block."
      ]
    },
    {
      "metadata": {
        "id": "Yu_gBL12rymO",
        "colab_type": "code",
        "colab": {
          "base_uri": "https://localhost:8080/",
          "height": 35
        },
        "outputId": "d40002da-9c47-43ff-f734-ce3beb132498"
      },
      "cell_type": "code",
      "source": [
        "# Example 1\n",
        "if True:\n",
        "  print(\"True!\")"
      ],
      "execution_count": 28,
      "outputs": [
        {
          "output_type": "stream",
          "text": [
            "True!\n"
          ],
          "name": "stdout"
        }
      ]
    },
    {
      "metadata": {
        "id": "30Hbr9iHr17S",
        "colab_type": "code",
        "colab": {
          "base_uri": "https://localhost:8080/",
          "height": 35
        },
        "outputId": "681d440d-e0a9-43e9-abab-82a098ee7568"
      },
      "cell_type": "code",
      "source": [
        "# Example 2\n",
        "a = 3\n",
        "if a != 5:\n",
        "  print(a)"
      ],
      "execution_count": 29,
      "outputs": [
        {
          "output_type": "stream",
          "text": [
            "3\n"
          ],
          "name": "stdout"
        }
      ]
    },
    {
      "metadata": {
        "id": "tHrPweTQr7eH",
        "colab_type": "code",
        "colab": {
          "base_uri": "https://localhost:8080/",
          "height": 35
        },
        "outputId": "c5aafdb8-37fb-41aa-f47c-76aefef2ac80"
      },
      "cell_type": "code",
      "source": [
        "# Example 3\n",
        "a = 3\n",
        "if a != 3:\n",
        "  print(a)\n",
        "else:\n",
        "  print(\"a = 3\")"
      ],
      "execution_count": 30,
      "outputs": [
        {
          "output_type": "stream",
          "text": [
            "a = 3\n"
          ],
          "name": "stdout"
        }
      ]
    },
    {
      "metadata": {
        "id": "ZIXhUrABjIZi",
        "colab_type": "text"
      },
      "cell_type": "markdown",
      "source": [
        "### 1.41  Logic with Functions\n",
        "\n",
        "We will explore this more later, but for now, I want to quickly introduce you to functions in python.  The syntax for a function is fairly simple, and the more you see it, the easier it will become.  \n",
        "\n",
        "1. Every function starts with a declaritive statement where you can pass the function arguments.  Once again, make sure that the function name represents what the function does\n",
        "\n",
        "2. Every function needs a return statement that can return nothing, or something useful.\n",
        "\n",
        "For example, I am going to build a function below that adds two numbers together"
      ]
    },
    {
      "metadata": {
        "id": "ubrsStU-r9Zx",
        "colab_type": "code",
        "colab": {
          "base_uri": "https://localhost:8080/",
          "height": 35
        },
        "outputId": "42e950a2-9336-4c5c-806d-01a09502ce45"
      },
      "cell_type": "code",
      "source": [
        "# Declare and name the function\n",
        "def add(a,b):\n",
        "  \n",
        "  # Add the two numbers and save as a new variable\n",
        "  c = a + b\n",
        "  \n",
        "  # Return the value c\n",
        "  return c\n",
        "\n",
        "# Call the function with a = 10, and b = 15\n",
        "add(10,15)"
      ],
      "execution_count": 9,
      "outputs": [
        {
          "output_type": "execute_result",
          "data": {
            "text/plain": [
              "25"
            ]
          },
          "metadata": {
            "tags": []
          },
          "execution_count": 9
        }
      ]
    },
    {
      "metadata": {
        "id": "aOpRd9hNsHoq",
        "colab_type": "text"
      },
      "cell_type": "markdown",
      "source": [
        "### Conditionals\n",
        "\n",
        "Let's tackle this one part at a time. What does it mean to be a condition? Really, all an `if` is checking is whether the conditional evaluates to `True` or `False`. If the condition is true, then the body of the `if` statement is executed. If the condition is false, the `if` block is skipped. Intuitively, true and false are concepts that make perfect sense to us. But we should take the time to clearly define them in a programming context here.\n",
        "\n",
        "`True` and `False` are what we call booleans in logic (`bool` for short), and what Python calls them. They are a special variable type with many potential uses; mainly they are used as a way to put a label on the truth of a statement. There are two specifically reserved words for bools in Python, `True` and `False`. Note that these begin with capital letters.\n",
        "\n",
        "```python\n",
        "In [1]: type(True)\n",
        "Out[1]: bool\n",
        "\n",
        "In [2]: type(False)\n",
        "Out[2]: bool\n",
        "```"
      ]
    },
    {
      "metadata": {
        "id": "1kc7ChWlsIHL",
        "colab_type": "code",
        "colab": {}
      },
      "cell_type": "code",
      "source": [
        ""
      ],
      "execution_count": 0,
      "outputs": []
    }
  ]
}