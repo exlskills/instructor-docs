{
  "nbformat": 4,
  "nbformat_minor": 0,
  "metadata": {
    "colab": {
      "name": "Assignment1.ipynb",
      "version": "0.3.2",
      "provenance": []
    },
    "kernelspec": {
      "name": "python3",
      "display_name": "Python 3"
    }
  },
  "cells": [
    {
      "metadata": {
        "id": "0xDzOX48NJ4m",
        "colab_type": "text"
      },
      "cell_type": "markdown",
      "source": [
        "# Assignment 1\n",
        "\n",
        "[Link to notebook](https://colab.research.google.com/drive/1oX8IFXlh6jO6W_-e_Bsr4PrDDm5rJmJh)\n",
        "## Instructions:\n",
        "1. Go to top left and click file\n",
        "2. In the menu, click _Save a copy in Drive_\n",
        "3. Fill out the assignment for each part."
      ]
    },
    {
      "metadata": {
        "id": "tC_SrhJzNiot",
        "colab_type": "text"
      },
      "cell_type": "markdown",
      "source": [
        "### 1. Hello World.\n",
        "\n",
        "Using the code cell below, get the notebook to print out \"Hello, World & Hell {insert your name here}\"\n",
        "\n",
        "Hint: Check out the Lecture!\n"
      ]
    },
    {
      "metadata": {
        "id": "ofJWVJIRNdUe",
        "colab_type": "code",
        "colab": {}
      },
      "cell_type": "code",
      "source": [
        ""
      ],
      "execution_count": 0,
      "outputs": []
    },
    {
      "metadata": {
        "id": "w9Kj9vGhNhRc",
        "colab_type": "text"
      },
      "cell_type": "markdown",
      "source": [
        "### 1.1 Hello World pt. II\n",
        "\n",
        "\n",
        "Using the `print()` command save the text hello world as a variable and then print it out"
      ]
    },
    {
      "metadata": {
        "id": "YnpJNSy2OUQ5",
        "colab_type": "code",
        "colab": {}
      },
      "cell_type": "code",
      "source": [
        ""
      ],
      "execution_count": 0,
      "outputs": []
    },
    {
      "metadata": {
        "id": "gZeZU470OU7w",
        "colab_type": "text"
      },
      "cell_type": "markdown",
      "source": [
        "### 2 Numbers:\n",
        "\n",
        "Using the code cell below, do the following:\n",
        "\n",
        "1. Create a variable x = 2\n",
        "2. Create a variable y = 4\n",
        "3. Print out x + y\n",
        "4. Print out x * y\n",
        "5. Print out  x^y\n",
        "6. Print out the type of variable that x + y creates\n",
        "7. Print out the type of variable that (x * y) + .02 creates\n",
        "\n"
      ]
    },
    {
      "metadata": {
        "id": "vGdMToT3PKY6",
        "colab_type": "code",
        "colab": {}
      },
      "cell_type": "code",
      "source": [
        ""
      ],
      "execution_count": 0,
      "outputs": []
    },
    {
      "metadata": {
        "id": "h_7kMog9PMDI",
        "colab_type": "text"
      },
      "cell_type": "markdown",
      "source": [
        "### 3. If Statements\n",
        "\n",
        "In the code cell below, define a variable that is between -100 and 100\n",
        "\n",
        "Using an if statement, create a conditional statement that prints 'negative if your number is less than zero, zero if your number equals zero, and positive otherwise\n"
      ]
    },
    {
      "metadata": {
        "id": "1Qm4Jkw9Pscl",
        "colab_type": "code",
        "colab": {}
      },
      "cell_type": "code",
      "source": [
        ""
      ],
      "execution_count": 0,
      "outputs": []
    }
  ]
}